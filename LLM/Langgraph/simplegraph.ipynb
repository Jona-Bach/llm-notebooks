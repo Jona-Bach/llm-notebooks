{
 "cells": [
  {
   "cell_type": "code",
   "execution_count": 28,
   "id": "45c1cbaf",
   "metadata": {},
   "outputs": [],
   "source": [
    "from dataclasses import dataclass\n",
    "\n",
    "@dataclass\n",
    "class PortfolioState:\n",
    "    amount_usd: float = 0.0\n",
    "    total_usd: float = 0.0\n",
    "    total_eur: float = 0.0"
   ]
  },
  {
   "cell_type": "code",
   "execution_count": 29,
   "id": "e3e1c53d",
   "metadata": {},
   "outputs": [],
   "source": [
    "def calc_total(state: PortfolioState) -> PortfolioState:\n",
    "    state.total_usd = state.amount_usd * 1.08\n",
    "    return state"
   ]
  },
  {
   "cell_type": "code",
   "execution_count": 30,
   "id": "2541f900",
   "metadata": {},
   "outputs": [],
   "source": [
    "def convert_to_eur(state: PortfolioState) -> PortfolioState:\n",
    "    state.total_eur = state.total_usd / 1.16\n",
    "    return state"
   ]
  },
  {
   "cell_type": "code",
   "execution_count": 31,
   "id": "50c933ae",
   "metadata": {},
   "outputs": [],
   "source": [
    "from langgraph.graph import StateGraph, START, END\n",
    "\n",
    "builder = StateGraph(PortfolioState)\n",
    "\n",
    "builder.add_node(\"calc_total\", calc_total)\n",
    "builder.add_node(\"convert\", convert_to_eur)\n",
    "\n",
    "builder.add_edge(START, \"calc_total\")\n",
    "builder.add_edge(\"calc_total\",\"convert\")\n",
    "builder.add_edge(\"convert\", END)\n",
    "\n",
    "graph = builder.compile()"
   ]
  },
  {
   "cell_type": "code",
   "execution_count": 32,
   "id": "eb634a2d",
   "metadata": {},
   "outputs": [
    {
     "data": {
      "image/png": "[encoded data removed]",
      "text/plain": [
       "<IPython.core.display.Image object>"
      ]
     },
     "metadata": {},
     "output_type": "display_data"
    }
   ],
   "source": [
    "from IPython.display import Image, display\n",
    "\n",
    "display(Image(graph.get_graph().draw_mermaid_png()))"
   ]
  },
  {
   "cell_type": "code",
   "execution_count": 33,
   "id": "65b5371c",
   "metadata": {},
   "outputs": [
    {
     "data": {
      "text/plain": [
       "{'amount_usd': 1000, 'total_usd': 1080.0, 'total_eur': 931.0344827586207}"
      ]
     },
     "execution_count": 33,
     "metadata": {},
     "output_type": "execute_result"
    }
   ],
   "source": [
    "graph.invoke({\"amount_usd\": 1000})"
   ]
  },
  {
   "cell_type": "code",
   "execution_count": null,
   "id": "355669d6",
   "metadata": {},
   "outputs": [],
   "source": []
  }
 ],
 "metadata": {
  "kernelspec": {
   "display_name": "agentiai-env",
   "language": "python",
   "name": "python3"
  },
  "language_info": {
   "codemirror_mode": {
    "name": "ipython",
    "version": 3
   },
   "file_extension": ".py",
   "mimetype": "text/x-python",
   "name": "python",
   "nbconvert_exporter": "python",
   "pygments_lexer": "ipython3",
   "version": "3.12.3"
  }
 },
 "nbformat": 4,
 "nbformat_minor": 5
}
