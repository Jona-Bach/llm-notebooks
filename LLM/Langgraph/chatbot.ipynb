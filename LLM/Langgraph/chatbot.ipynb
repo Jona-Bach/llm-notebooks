{
 "cells": [
  {
   "cell_type": "code",
   "execution_count": 17,
   "id": "36a88ec5",
   "metadata": {},
   "outputs": [],
   "source": [
    "from langchain_ollama.llms import OllamaLLM\n",
    "\n",
    "model = OllamaLLM(model=\"gemma:2b\")"
   ]
  },
  {
   "cell_type": "code",
   "execution_count": null,
   "id": "351eddfc",
   "metadata": {},
   "outputs": [],
   "source": [
    "from dataclasses import dataclass, field\n",
    "from langgraph.graph import StateGraph, START, END\n",
    "from langgraph.graph.message import add_messages\n",
    "\n",
    "\n",
    "@dataclass\n",
    "class State():\n",
    "    messages: list = field(default_factory=list)\n",
    "\n",
    "def chatbot(state: State) -> State:\n",
    "    new_messages = [model.invoke(state.messages[0][\"text\"])]\n",
    "    return State(messages=new_messages)\n",
    "\n",
    "builder = StateGraph(State)\n",
    "builder.add_node(\"Chatbot\", chatbot)\n",
    "\n",
    "builder.add_edge(START, \"Chatbot\")\n",
    "builder.add_edge(\"Chatbot\", END)\n",
    "\n",
    "graph = builder.compile()\n",
    "\n",
    "\n"
   ]
  },
  {
   "cell_type": "code",
   "execution_count": 22,
   "id": "29212ee9",
   "metadata": {},
   "outputs": [
    {
     "data": {
      "text/plain": [
       "[\"I do not have access to real-time information, therefore I cannot provide the latest price of MSFT stock at this moment. To access the most up-to-date prices and market analysis, I recommend checking reputable financial news sources or a financial broker's website.\"]"
      ]
     },
     "execution_count": 22,
     "metadata": {},
     "output_type": "execute_result"
    }
   ],
   "source": [
    "message = {\"text\": \"What is the latest price of MSFT Stock? Answer: \"}\n",
    "response = graph.invoke({\"messages\": [message]})\n",
    "\n",
    "response[\"messages\"]"
   ]
  },
  {
   "cell_type": "code",
   "execution_count": null,
   "id": "1bd6d53d",
   "metadata": {},
   "outputs": [],
   "source": []
  }
 ],
 "metadata": {
  "kernelspec": {
   "display_name": "agentiai-env",
   "language": "python",
   "name": "python3"
  },
  "language_info": {
   "codemirror_mode": {
    "name": "ipython",
    "version": 3
   },
   "file_extension": ".py",
   "mimetype": "text/x-python",
   "name": "python",
   "nbconvert_exporter": "python",
   "pygments_lexer": "ipython3",
   "version": "3.12.3"
  }
 },
 "nbformat": 4,
 "nbformat_minor": 5
}
