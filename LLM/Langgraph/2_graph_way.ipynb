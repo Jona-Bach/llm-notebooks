{
 "cells": [
  {
   "cell_type": "code",
   "execution_count": 10,
   "id": "1edc4ded",
   "metadata": {},
   "outputs": [],
   "source": [
    "from dataclasses import dataclass\n",
    "from typing import Literal\n",
    "\n",
    "@dataclass\n",
    "class PortfolioState:\n",
    "    amount_usd: float = 0.0\n",
    "    total_usd: float = 0.0\n",
    "    total: float = 0.0\n",
    "    target_currency : Literal[\"INR\",\"EUR\"] = \"EUR\""
   ]
  },
  {
   "cell_type": "code",
   "execution_count": 12,
   "id": "292ca1da",
   "metadata": {},
   "outputs": [],
   "source": [
    "def calc_total(state: PortfolioState) -> PortfolioState:\n",
    "    state.total_usd = state.amount_usd * 1.08\n",
    "    return state\n",
    "def convert_to_eur(state: PortfolioState) -> PortfolioState:\n",
    "    state.total = state.total_usd / 1.16\n",
    "    return state\n",
    "def convert_to_inr(state: PortfolioState) -> PortfolioState:\n",
    "    state.total = state.total_usd * 85\n",
    "    return state\n",
    "def choose_conversion(state: PortfolioState) -> str:\n",
    "    return state.target_currency"
   ]
  },
  {
   "cell_type": "code",
   "execution_count": 13,
   "id": "fb70d600",
   "metadata": {},
   "outputs": [],
   "source": [
    "from langgraph.graph import StateGraph, START, END\n",
    "\n",
    "builder = StateGraph(PortfolioState)\n",
    "\n",
    "builder.add_node(\"calc_total\", calc_total)\n",
    "builder.add_node(\"convert_eur\", convert_to_eur)\n",
    "builder.add_node(\"convert_inr\", convert_to_inr)\n",
    "\n",
    "builder.add_edge(START, \"calc_total\")\n",
    "builder.add_conditional_edges(\n",
    "    \"calc_total\",\n",
    "    choose_conversion,\n",
    "    {\n",
    "        \"INR\": \"convert_inr\",\n",
    "        \"EUR\": \"convert_eur\",\n",
    "    }\n",
    "\n",
    ")\n",
    "\n",
    "builder.add_edge([\"convert_inr\",\"convert_eur\"], END)\n",
    "\n",
    "graph = builder.compile()"
   ]
  },
  {
   "cell_type": "code",
   "execution_count": 14,
   "id": "ff21062b",
   "metadata": {},
   "outputs": [
    {
     "data": {
      "image/png": "[encoded data removed]",
      "text/plain": [
       "<IPython.core.display.Image object>"
      ]
     },
     "metadata": {},
     "output_type": "display_data"
    }
   ],
   "source": [
    "from IPython.display import Image, display\n",
    "\n",
    "display(Image(graph.get_graph().draw_mermaid_png()))"
   ]
  },
  {
   "cell_type": "code",
   "execution_count": 22,
   "id": "a24c0df7",
   "metadata": {},
   "outputs": [
    {
     "data": {
      "text/plain": [
       "{'amount_usd': 1000,\n",
       " 'total_usd': 1080.0,\n",
       " 'total': 931.0344827586207,\n",
       " 'target_currency': 'EUR'}"
      ]
     },
     "execution_count": 22,
     "metadata": {},
     "output_type": "execute_result"
    }
   ],
   "source": [
    "graph.invoke({\"amount_usd\": 1000, \"target_currency\": \"EUR\"})"
   ]
  },
  {
   "cell_type": "code",
   "execution_count": null,
   "id": "a82f18a8",
   "metadata": {},
   "outputs": [],
   "source": []
  }
 ],
 "metadata": {
  "kernelspec": {
   "display_name": "agentiai-env",
   "language": "python",
   "name": "python3"
  },
  "language_info": {
   "codemirror_mode": {
    "name": "ipython",
    "version": 3
   },
   "file_extension": ".py",
   "mimetype": "text/x-python",
   "name": "python",
   "nbconvert_exporter": "python",
   "pygments_lexer": "ipython3",
   "version": "3.12.3"
  }
 },
 "nbformat": 4,
 "nbformat_minor": 5
}
